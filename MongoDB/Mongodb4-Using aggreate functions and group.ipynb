{
 "cells": [
  {
   "cell_type": "markdown",
   "metadata": {},
   "source": [
    "# MongoDB aggregate and group"
   ]
  },
  {
   "cell_type": "code",
   "execution_count": 20,
   "metadata": {},
   "outputs": [],
   "source": [
    "import pymongo"
   ]
  },
  {
   "cell_type": "code",
   "execution_count": 21,
   "metadata": {},
   "outputs": [],
   "source": [
    "client=pymongo.MongoClient(\"mongodb://localhost:27017/\")"
   ]
  },
  {
   "cell_type": "code",
   "execution_count": 22,
   "metadata": {},
   "outputs": [],
   "source": [
    "mydb=client['Students']"
   ]
  },
  {
   "cell_type": "code",
   "execution_count": 23,
   "metadata": {},
   "outputs": [],
   "source": [
    "collection=mydb['Scores']"
   ]
  },
  {
   "cell_type": "code",
   "execution_count": 24,
   "metadata": {},
   "outputs": [],
   "source": [
    "data = [ \n",
    "    {\"user\":\"Bibi\", \"subject\":\"Database\", \"score\":80}, \n",
    "    {\"user\":\"Abi\",  \"subject\":\"JavaScript\", \"score\":90}, \n",
    "    {\"user\":\"Abi\",  \"title\":\"Database\", \"score\":85}, \n",
    "    {\"user\":\"Bibi\",  \"title\":\"JavaScript\", \"score\":75}, \n",
    "    {\"user\":\"Abi\",  \"title\":\"Data Science\", \"score\":60},\n",
    "    {\"user\":\"Bibi\",  \"title\":\"Data Science\", \"score\":95}] "
   ]
  },
  {
   "cell_type": "code",
   "execution_count": 25,
   "metadata": {},
   "outputs": [
    {
     "data": {
      "text/plain": [
       "<pymongo.results.InsertManyResult at 0x19f30c81a48>"
      ]
     },
     "execution_count": 25,
     "metadata": {},
     "output_type": "execute_result"
    }
   ],
   "source": [
    "collection.insert_many(data)"
   ]
  },
  {
   "cell_type": "code",
   "execution_count": 26,
   "metadata": {},
   "outputs": [],
   "source": [
    "agg_res=collection.aggregate(\n",
    "    [{\n",
    "        '$group':\n",
    "        {\n",
    "            \"_id\":\"$user\",\n",
    "            \"Total subjects\":{\"$sum\":1}\n",
    "        }\n",
    "    }\n",
    "    ]\n",
    ")"
   ]
  },
  {
   "cell_type": "code",
   "execution_count": 27,
   "metadata": {},
   "outputs": [
    {
     "data": {
      "text/plain": [
       "<pymongo.command_cursor.CommandCursor at 0x19f30c7b4c8>"
      ]
     },
     "execution_count": 27,
     "metadata": {},
     "output_type": "execute_result"
    }
   ],
   "source": [
    "agg_res"
   ]
  },
  {
   "cell_type": "code",
   "execution_count": 28,
   "metadata": {},
   "outputs": [
    {
     "name": "stdout",
     "output_type": "stream",
     "text": [
      "{'_id': 'Bibi', 'Total subjects': 6}\n",
      "{'_id': None, 'Total subjects': 5}\n",
      "{'_id': 'Abi', 'Total subjects': 6}\n"
     ]
    }
   ],
   "source": [
    "for i in agg_res:\n",
    "    print(i)"
   ]
  },
  {
   "cell_type": "markdown",
   "metadata": {},
   "source": [
    "# Sum"
   ]
  },
  {
   "cell_type": "code",
   "execution_count": 29,
   "metadata": {},
   "outputs": [],
   "source": [
    "agg_result=collection.aggregate(\n",
    "    [{\n",
    "        '$group':\n",
    "        {\n",
    "            \"_id\":\"$user\",\n",
    "            \"Total subjects\":{\"$sum\":'$score'}\n",
    "        }\n",
    "    }\n",
    "    ]\n",
    ")"
   ]
  },
  {
   "cell_type": "code",
   "execution_count": 30,
   "metadata": {},
   "outputs": [
    {
     "name": "stdout",
     "output_type": "stream",
     "text": [
      "{'_id': 'Bibi', 'Total subjects': 500}\n",
      "{'_id': None, 'Total subjects': 0}\n",
      "{'_id': 'Abi', 'Total subjects': 470}\n"
     ]
    }
   ],
   "source": [
    "for i in agg_result:\n",
    "    print(i)"
   ]
  },
  {
   "cell_type": "markdown",
   "metadata": {},
   "source": [
    "# Average"
   ]
  },
  {
   "cell_type": "code",
   "execution_count": 31,
   "metadata": {},
   "outputs": [],
   "source": [
    "avrg=collection.aggregate(\n",
    "    [{\n",
    "        '$group':\n",
    "        {\n",
    "            \"_id\":\"$user\",\n",
    "            \"Total subjects\":{\"$avg\":'$score'}\n",
    "        }\n",
    "    }\n",
    "    ]\n",
    ")"
   ]
  },
  {
   "cell_type": "code",
   "execution_count": 32,
   "metadata": {},
   "outputs": [
    {
     "name": "stdout",
     "output_type": "stream",
     "text": [
      "{'_id': None, 'Total subjects': None}\n",
      "{'_id': 'Bibi', 'Total subjects': 83.33333333333333}\n",
      "{'_id': 'Abi', 'Total subjects': 78.33333333333333}\n"
     ]
    }
   ],
   "source": [
    "for i in avrg:\n",
    "    print(i)"
   ]
  },
  {
   "cell_type": "markdown",
   "metadata": {},
   "source": [
    "# New collection"
   ]
  },
  {
   "cell_type": "code",
   "execution_count": 33,
   "metadata": {},
   "outputs": [],
   "source": [
    "mycoll=mydb['Stores']"
   ]
  },
  {
   "cell_type": "code",
   "execution_count": 34,
   "metadata": {},
   "outputs": [],
   "source": [
    "import datetime as datetime"
   ]
  },
  {
   "cell_type": "code",
   "execution_count": 35,
   "metadata": {},
   "outputs": [],
   "source": [
    "data=[{ \"_id\" : 1, \"item\" : \"abc\", \"price\" : 10, \"quantity\" : 2, \"date\" : datetime.datetime.utcnow()},\n",
    "{ \"_id\" : 2, \"item\" : \"jkl\", \"price\" : 20, \"quantity\" : 1, \"date\" : datetime.datetime.utcnow() },\n",
    "{ \"_id\" : 3, \"item\" : \"xyz\", \"price\" : 5, \"quantity\" : 5, \"date\" : datetime.datetime.utcnow() },\n",
    "{ \"_id\" : 4, \"item\" : \"abc\", \"price\" : 10, \"quantity\" : 10, \"date\" : datetime.datetime.utcnow() },\n",
    "{ \"_id\" : 5, \"item\" : \"xyz\", \"price\" : 5, \"quantity\" : 10, \"date\" :datetime.datetime.utcnow() }]"
   ]
  },
  {
   "cell_type": "code",
   "execution_count": 36,
   "metadata": {},
   "outputs": [
    {
     "data": {
      "text/plain": [
       "<pymongo.results.InsertManyResult at 0x19f30c9f4c8>"
      ]
     },
     "execution_count": 36,
     "metadata": {},
     "output_type": "execute_result"
    }
   ],
   "source": [
    "mycoll.insert_many(data)"
   ]
  },
  {
   "cell_type": "markdown",
   "metadata": {},
   "source": [
    "# Using multiply"
   ]
  },
  {
   "cell_type": "code",
   "execution_count": 39,
   "metadata": {},
   "outputs": [],
   "source": [
    "amnt=mycoll.aggregate(\n",
    "    [{\n",
    "        '$group':\n",
    "        {\n",
    "            \"_id\":\"$item\",\n",
    "            \"Average amount\":{\"$avg\":{'$multiply':['$price','$quantity']}},\n",
    "            \"Average quantity\":{'$avg':'$quantity'}\n",
    "        }\n",
    "    }\n",
    "    ]\n",
    ")"
   ]
  },
  {
   "cell_type": "code",
   "execution_count": 40,
   "metadata": {},
   "outputs": [
    {
     "name": "stdout",
     "output_type": "stream",
     "text": [
      "{'_id': 'xyz', 'Average amount': 37.5, 'Average quantity': 7.5}\n",
      "{'_id': 'abc', 'Average amount': 60.0, 'Average quantity': 6.0}\n",
      "{'_id': 'jkl', 'Average amount': 20.0, 'Average quantity': 1.0}\n"
     ]
    }
   ],
   "source": [
    "for i in amnt:\n",
    "    print(i)"
   ]
  },
  {
   "cell_type": "markdown",
   "metadata": {},
   "source": [
    "# Using project"
   ]
  },
  {
   "cell_type": "markdown",
   "metadata": {},
   "source": [
    "**It is similar to select * statement in sql**"
   ]
  },
  {
   "cell_type": "code",
   "execution_count": 42,
   "metadata": {},
   "outputs": [
    {
     "name": "stdout",
     "output_type": "stream",
     "text": [
      "{'_id': 1, 'item': 'abc'}\n",
      "{'_id': 2, 'item': 'jkl'}\n",
      "{'_id': 3, 'item': 'xyz'}\n",
      "{'_id': 4, 'item': 'abc'}\n",
      "{'_id': 5, 'item': 'xyz'}\n"
     ]
    }
   ],
   "source": [
    "for ab in mycoll.aggregate([{'$project':{'item':1}}]):\n",
    "    print(ab)"
   ]
  },
  {
   "cell_type": "code",
   "execution_count": 43,
   "metadata": {},
   "outputs": [
    {
     "name": "stdout",
     "output_type": "stream",
     "text": [
      "{'_id': 1, 'item': 'abc', 'price': 10}\n",
      "{'_id': 2, 'item': 'jkl', 'price': 20}\n",
      "{'_id': 3, 'item': 'xyz', 'price': 5}\n",
      "{'_id': 4, 'item': 'abc', 'price': 10}\n",
      "{'_id': 5, 'item': 'xyz', 'price': 5}\n"
     ]
    }
   ],
   "source": [
    "for ab in mycoll.aggregate([{'$project':{'item':1,'price':1}}]):\n",
    "    print(ab)"
   ]
  },
  {
   "cell_type": "code",
   "execution_count": null,
   "metadata": {},
   "outputs": [],
   "source": []
  }
 ],
 "metadata": {
  "kernelspec": {
   "display_name": "Python 3",
   "language": "python",
   "name": "python3"
  },
  "language_info": {
   "codemirror_mode": {
    "name": "ipython",
    "version": 3
   },
   "file_extension": ".py",
   "mimetype": "text/x-python",
   "name": "python",
   "nbconvert_exporter": "python",
   "pygments_lexer": "ipython3",
   "version": "3.7.6"
  }
 },
 "nbformat": 4,
 "nbformat_minor": 4
}
